{
 "cells": [
  {
   "cell_type": "markdown",
   "metadata": {},
   "source": [
    "## Distribution questions\n",
    "### Question 1"
   ]
  },
  {
   "cell_type": "code",
   "execution_count": 17,
   "metadata": {},
   "outputs": [],
   "source": [
    "import pandas as pd\n",
    "import numpy as np\n",
    "import scipy.stats as stats\n",
    "import matplotlib.pyplot as plt"
   ]
  },
  {
   "cell_type": "code",
   "execution_count": null,
   "metadata": {},
   "outputs": [],
   "source": [
    "# Importing the dataset\n",
    "toys = pd.read_csv(r\"C:\\Users\\hp\\Desktop\\5.1\\sankyana\\Datasets\\toy_dataset.csv\")"
   ]
  },
  {
   "cell_type": "code",
   "execution_count": 3,
   "metadata": {},
   "outputs": [
    {
     "data": {
      "text/html": [
       "<div>\n",
       "<style scoped>\n",
       "    .dataframe tbody tr th:only-of-type {\n",
       "        vertical-align: middle;\n",
       "    }\n",
       "\n",
       "    .dataframe tbody tr th {\n",
       "        vertical-align: top;\n",
       "    }\n",
       "\n",
       "    .dataframe thead th {\n",
       "        text-align: right;\n",
       "    }\n",
       "</style>\n",
       "<table border=\"1\" class=\"dataframe\">\n",
       "  <thead>\n",
       "    <tr style=\"text-align: right;\">\n",
       "      <th></th>\n",
       "      <th>Number</th>\n",
       "      <th>City</th>\n",
       "      <th>Gender</th>\n",
       "      <th>Age</th>\n",
       "      <th>Income</th>\n",
       "      <th>Illness</th>\n",
       "    </tr>\n",
       "  </thead>\n",
       "  <tbody>\n",
       "    <tr>\n",
       "      <th>0</th>\n",
       "      <td>1</td>\n",
       "      <td>Dallas</td>\n",
       "      <td>Male</td>\n",
       "      <td>41</td>\n",
       "      <td>40367.0</td>\n",
       "      <td>No</td>\n",
       "    </tr>\n",
       "    <tr>\n",
       "      <th>1</th>\n",
       "      <td>2</td>\n",
       "      <td>Dallas</td>\n",
       "      <td>Male</td>\n",
       "      <td>54</td>\n",
       "      <td>45084.0</td>\n",
       "      <td>No</td>\n",
       "    </tr>\n",
       "    <tr>\n",
       "      <th>2</th>\n",
       "      <td>3</td>\n",
       "      <td>Dallas</td>\n",
       "      <td>Male</td>\n",
       "      <td>42</td>\n",
       "      <td>52483.0</td>\n",
       "      <td>No</td>\n",
       "    </tr>\n",
       "    <tr>\n",
       "      <th>3</th>\n",
       "      <td>4</td>\n",
       "      <td>Dallas</td>\n",
       "      <td>Male</td>\n",
       "      <td>40</td>\n",
       "      <td>40941.0</td>\n",
       "      <td>No</td>\n",
       "    </tr>\n",
       "    <tr>\n",
       "      <th>4</th>\n",
       "      <td>5</td>\n",
       "      <td>Dallas</td>\n",
       "      <td>Male</td>\n",
       "      <td>46</td>\n",
       "      <td>50289.0</td>\n",
       "      <td>No</td>\n",
       "    </tr>\n",
       "  </tbody>\n",
       "</table>\n",
       "</div>"
      ],
      "text/plain": [
       "   Number    City Gender  Age   Income Illness\n",
       "0       1  Dallas   Male   41  40367.0      No\n",
       "1       2  Dallas   Male   54  45084.0      No\n",
       "2       3  Dallas   Male   42  52483.0      No\n",
       "3       4  Dallas   Male   40  40941.0      No\n",
       "4       5  Dallas   Male   46  50289.0      No"
      ]
     },
     "execution_count": 3,
     "metadata": {},
     "output_type": "execute_result"
    }
   ],
   "source": [
    "toys.head()"
   ]
  },
  {
   "cell_type": "code",
   "execution_count": 4,
   "metadata": {},
   "outputs": [
    {
     "data": {
      "text/plain": [
       "44.9502"
      ]
     },
     "execution_count": 4,
     "metadata": {},
     "output_type": "execute_result"
    }
   ],
   "source": [
    "#Computing mean\n",
    "mean = toys.Age.mean()\n",
    "mean"
   ]
  },
  {
   "cell_type": "code",
   "execution_count": null,
   "metadata": {},
   "outputs": [
    {
     "data": {
      "text/plain": [
       "45.0"
      ]
     },
     "execution_count": 6,
     "metadata": {},
     "output_type": "execute_result"
    }
   ],
   "source": [
    "#Median\n",
    "median = toys.Age.median()\n",
    "median"
   ]
  },
  {
   "cell_type": "code",
   "execution_count": null,
   "metadata": {},
   "outputs": [
    {
     "data": {
      "text/plain": [
       "0    26\n",
       "Name: Age, dtype: int64"
      ]
     },
     "execution_count": 8,
     "metadata": {},
     "output_type": "execute_result"
    }
   ],
   "source": [
    "#Mode\n",
    "mode = toys.Age.mode()\n",
    "mode"
   ]
  },
  {
   "cell_type": "code",
   "execution_count": 10,
   "metadata": {},
   "outputs": [
    {
     "data": {
      "text/plain": [
       "40"
      ]
     },
     "execution_count": 10,
     "metadata": {},
     "output_type": "execute_result"
    }
   ],
   "source": [
    "#Computing range\n",
    "range = np.ptp(toys.Age)\n",
    "range\n",
    "\n",
    "#Alternative way to compute range\n",
    "range = toys.Age.max() - toys.Age.min()\n",
    "range"
   ]
  },
  {
   "cell_type": "code",
   "execution_count": 27,
   "metadata": {},
   "outputs": [
    {
     "data": {
      "image/png": "[encoded data removed]",
      "text/plain": [
       "<Figure size 1000x600 with 1 Axes>"
      ]
     },
     "metadata": {},
     "output_type": "display_data"
    }
   ],
   "source": [
    "#Normal distribution\n",
    "snd = stats.norm(mean, toys.Age.std())\n",
    "\n",
    "#Generate random numbers\n",
    "random = np.linspace(-100,100,5)\n",
    "random\n",
    "\n",
    "x = np.linspace(-100,100,1000)\n",
    "y = snd.pdf(x)\n",
    "\n",
    "#Plot the normal distribution\n",
    "plt.figure(figsize = (10,6))\n",
    "plt.plot(x, y, label = 'Normal Distribution',color = 'black')\n",
    "plt.scatter(random,snd.pdf(random),color = 'red', zorder = 5, label = 'Random numbers')\n",
    "plt.title('Normal Distribution')\n",
    "plt.xlabel('Age')\n",
    "plt.ylabel('Probability Densisty')\n",
    "plt.xlim(-10,100)\n",
    "plt.legend(loc ='best')\n",
    "plt.grid(True)\n",
    "plt.show()\n"
   ]
  },
  {
   "cell_type": "markdown",
   "metadata": {},
   "source": [
    "### Question 2"
   ]
  },
  {
   "cell_type": "code",
   "execution_count": 29,
   "metadata": {},
   "outputs": [
    {
     "name": "stdout",
     "output_type": "stream",
     "text": [
      "The probability of getting 3 heads in 6 coin tosses is 0.65625\n"
     ]
    }
   ],
   "source": [
    "from scipy.stats import binom\n",
    "n = 6\n",
    "x = 3\n",
    "p = 0.5\n",
    "prob = stats.binom.cdf(x,n,p)\n",
    "print(f\"The probability of getting {x} heads in {n} coin tosses is {prob}\")\n",
    "\n"
   ]
  },
  {
   "cell_type": "markdown",
   "metadata": {},
   "source": [
    "## Data visualization"
   ]
  },
  {
   "cell_type": "markdown",
   "metadata": {},
   "source": [
    "### Number 1"
   ]
  },
  {
   "cell_type": "markdown",
   "metadata": {},
   "source": [
    "**Important features of good data visualization**  <br>\n",
    "Clarity: The visualization should clearly convey the intended message without any ambiguity. It should be easy to understand at a glance.\n",
    "\n",
    "Accuracy: The data should be represented accurately without any distortion. The scales and axes should be properly labeled and proportionate.\n",
    "\n",
    "Simplicity: Avoid clutter and unnecessary elements. The design should be simple and focused on the data.\n",
    "\n",
    "Relevance: The visualization should be relevant to the context and the audience. It should highlight the most important aspects of the data.\n",
    "\n",
    "Consistency: Use consistent colors, fonts, and styles throughout the visualization to maintain a cohesive look.\n",
    "\n",
    "Interactivity: If applicable, interactive elements can enhance the user experience by allowing them to explore the data in more detail.\n",
    "\n",
    "Storytelling: A good visualization often tells a story. It should guide the viewer through the data and help them understand the insights.\n",
    "\n",
    "Accessibility: Ensure that the visualization is accessible to all users, including those with disabilities. Use colorblind-friendly palettes and provide alternative text descriptions.\n",
    "\n",
    "Context: Provide context for the data, such as titles, labels, and legends, to help the viewer understand what they are looking at.\n",
    "\n",
    "Aesthetics: While functionality is key, a visually appealing design can help engage the audience and make the visualization more memorable.\n"
   ]
  },
  {
   "cell_type": "markdown",
   "metadata": {},
   "source": [
    "### Number 2"
   ]
  },
  {
   "cell_type": "markdown",
   "metadata": {},
   "source": [
    "**Scatter plots** <br><br>\n",
    "Plots used to identify relationship between 2 variables. It uses a cartesian plane to display this relationship. <br>\n",
    "Can be used in:<br>\n",
    "Identifying relationships<br>\n",
    "Detecting outliers<br>\n",
    "Observing patterns<br>\n",
    "Comparing variables\n"
   ]
  },
  {
   "cell_type": "markdown",
   "metadata": {},
   "source": [
    "### Number 3"
   ]
  },
  {
   "cell_type": "markdown",
   "metadata": {},
   "source": [
    "**Features in a scatter plot**<br>\n",
    "Correlation - positive (as the variable increases the other variable also increases) or negative(as the variable increases the other variable decreases) or no correlation(points are cattered randomly)<br>\n",
    "Clusters - groups of points closer to each other, showing patterns within the data<br>\n",
    "Outliers - Points completly different from others indicating anomalies.<br>\n",
    "Trends- linear or non-linear<br>\n",
    "Patterns<br>\n",
    "Density- areas with many points show higher concentration of data"
   ]
  },
  {
   "cell_type": "markdown",
   "metadata": {},
   "source": [
    "### Number 4"
   ]
  },
  {
   "cell_type": "markdown",
   "metadata": {},
   "source": [
    "Scatter plot"
   ]
  },
  {
   "cell_type": "markdown",
   "metadata": {},
   "source": [
    "### Number 5"
   ]
  },
  {
   "cell_type": "markdown",
   "metadata": {},
   "source": [
    "**Histogram**<br>\n",
    "Used to represent distribution of continuous variable by dividing data into bins and counting the number of observation in each bin <br>\n",
    "***Example***: If you have a dataset of the ages of females and you would want to visualize it you would use a histogram<br><br>\n",
    "\n",
    "**Bar chart**\n",
    "Used to compare different categories or discrete groups. Used in categorical data and the bars are separated by spaces indicating the discrete nature of the data.<br>\n",
    "***Example***: If you want to visualize the number of people in different age groups and compare them\n",
    "\n",
    "\n"
   ]
  },
  {
   "cell_type": "markdown",
   "metadata": {},
   "source": [
    "### Number 7\n",
    "An outlier is a point  that significantly differs from the other observations in a dataset"
   ]
  },
  {
   "cell_type": "markdown",
   "metadata": {},
   "source": [
    "### Number 8"
   ]
  },
  {
   "cell_type": "markdown",
   "metadata": {},
   "source": [
    "1. Matplotlib<br>\n",
    "2. Seaborn<br>\n",
    "3. Bokeh"
   ]
  },
  {
   "cell_type": "markdown",
   "metadata": {},
   "source": [
    "### Number 9"
   ]
  },
  {
   "cell_type": "markdown",
   "metadata": {},
   "source": [
    "Seaborn: \n",
    "1. Ease of use\n",
    "2. Built-in themes\n",
    "3. Has statistical plots\n",
    "4. Integrates well with pandas dataframe"
   ]
  }
 ],
 "metadata": {
  "kernelspec": {
   "display_name": "Python 3",
   "language": "python",
   "name": "python3"
  },
  "language_info": {
   "codemirror_mode": {
    "name": "ipython",
    "version": 3
   },
   "file_extension": ".py",
   "mimetype": "text/x-python",
   "name": "python",
   "nbconvert_exporter": "python",
   "pygments_lexer": "ipython3",
   "version": "3.11.11"
  }
 },
 "nbformat": 4,
 "nbformat_minor": 2
}
