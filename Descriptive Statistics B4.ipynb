{
 "cells": [
  {
   "cell_type": "markdown",
   "id": "2d1a7e97-f363-4ecd-a94d-d33964277691",
   "metadata": {},
   "source": [
    "### Descripitive Statistics"
   ]
  },
  {
   "cell_type": "code",
   "execution_count": 2,
   "id": "d2ef7f88-9f46-463b-879e-b54b3ef06ad0",
   "metadata": {},
   "outputs": [],
   "source": [
    "# importing the neccesary libraries\n",
    "import pandas as pd\n",
    "import numpy as np\n",
    "import seaborn as sns"
   ]
  },
  {
   "cell_type": "code",
   "execution_count": 3,
   "id": "93367472-903c-4d2e-a453-dcb4a48a4971",
   "metadata": {},
   "outputs": [
    {
     "data": {
      "text/html": [
       "<div>\n",
       "<style scoped>\n",
       "    .dataframe tbody tr th:only-of-type {\n",
       "        vertical-align: middle;\n",
       "    }\n",
       "\n",
       "    .dataframe tbody tr th {\n",
       "        vertical-align: top;\n",
       "    }\n",
       "\n",
       "    .dataframe thead th {\n",
       "        text-align: right;\n",
       "    }\n",
       "</style>\n",
       "<table border=\"1\" class=\"dataframe\">\n",
       "  <thead>\n",
       "    <tr style=\"text-align: right;\">\n",
       "      <th></th>\n",
       "      <th>Age</th>\n",
       "      <th>BusinessTravel</th>\n",
       "      <th>DailyRate</th>\n",
       "      <th>Department</th>\n",
       "      <th>DistanceFromHome</th>\n",
       "      <th>Education</th>\n",
       "      <th>EducationField</th>\n",
       "      <th>EmployeeCount</th>\n",
       "      <th>EmployeeNumber</th>\n",
       "      <th>EnvironmentSatisfaction</th>\n",
       "      <th>...</th>\n",
       "      <th>RelationshipSatisfaction</th>\n",
       "      <th>StandardHours</th>\n",
       "      <th>StockOptionLevel</th>\n",
       "      <th>TotalWorkingYears</th>\n",
       "      <th>TrainingTimesLastYear</th>\n",
       "      <th>WorkLifeBalance</th>\n",
       "      <th>YearsAtCompany</th>\n",
       "      <th>YearsInCurrentRole</th>\n",
       "      <th>YearsSinceLastPromotion</th>\n",
       "      <th>YearsWithCurrManager</th>\n",
       "    </tr>\n",
       "  </thead>\n",
       "  <tbody>\n",
       "    <tr>\n",
       "      <th>0</th>\n",
       "      <td>34</td>\n",
       "      <td>Travel_Rarely</td>\n",
       "      <td>790</td>\n",
       "      <td>Sales</td>\n",
       "      <td>24</td>\n",
       "      <td>4</td>\n",
       "      <td>Medical</td>\n",
       "      <td>1</td>\n",
       "      <td>1489</td>\n",
       "      <td>1</td>\n",
       "      <td>...</td>\n",
       "      <td>3</td>\n",
       "      <td>80</td>\n",
       "      <td>0</td>\n",
       "      <td>16</td>\n",
       "      <td>2</td>\n",
       "      <td>4</td>\n",
       "      <td>15</td>\n",
       "      <td>9</td>\n",
       "      <td>10</td>\n",
       "      <td>10</td>\n",
       "    </tr>\n",
       "    <tr>\n",
       "      <th>1</th>\n",
       "      <td>35</td>\n",
       "      <td>Travel_Rarely</td>\n",
       "      <td>660</td>\n",
       "      <td>Sales</td>\n",
       "      <td>7</td>\n",
       "      <td>1</td>\n",
       "      <td>Life Sciences</td>\n",
       "      <td>1</td>\n",
       "      <td>1492</td>\n",
       "      <td>4</td>\n",
       "      <td>...</td>\n",
       "      <td>1</td>\n",
       "      <td>80</td>\n",
       "      <td>1</td>\n",
       "      <td>1</td>\n",
       "      <td>3</td>\n",
       "      <td>3</td>\n",
       "      <td>1</td>\n",
       "      <td>0</td>\n",
       "      <td>0</td>\n",
       "      <td>0</td>\n",
       "    </tr>\n",
       "    <tr>\n",
       "      <th>2</th>\n",
       "      <td>24</td>\n",
       "      <td>Travel_Frequently</td>\n",
       "      <td>381</td>\n",
       "      <td>Research &amp; Development</td>\n",
       "      <td>9</td>\n",
       "      <td>3</td>\n",
       "      <td>Medical</td>\n",
       "      <td>1</td>\n",
       "      <td>1494</td>\n",
       "      <td>2</td>\n",
       "      <td>...</td>\n",
       "      <td>3</td>\n",
       "      <td>80</td>\n",
       "      <td>0</td>\n",
       "      <td>4</td>\n",
       "      <td>2</td>\n",
       "      <td>2</td>\n",
       "      <td>0</td>\n",
       "      <td>0</td>\n",
       "      <td>0</td>\n",
       "      <td>0</td>\n",
       "    </tr>\n",
       "    <tr>\n",
       "      <th>3</th>\n",
       "      <td>24</td>\n",
       "      <td>Non-Travel</td>\n",
       "      <td>830</td>\n",
       "      <td>Sales</td>\n",
       "      <td>13</td>\n",
       "      <td>2</td>\n",
       "      <td>Life Sciences</td>\n",
       "      <td>1</td>\n",
       "      <td>1495</td>\n",
       "      <td>4</td>\n",
       "      <td>...</td>\n",
       "      <td>3</td>\n",
       "      <td>80</td>\n",
       "      <td>1</td>\n",
       "      <td>1</td>\n",
       "      <td>2</td>\n",
       "      <td>3</td>\n",
       "      <td>1</td>\n",
       "      <td>0</td>\n",
       "      <td>0</td>\n",
       "      <td>0</td>\n",
       "    </tr>\n",
       "    <tr>\n",
       "      <th>4</th>\n",
       "      <td>44</td>\n",
       "      <td>Travel_Frequently</td>\n",
       "      <td>1193</td>\n",
       "      <td>Research &amp; Development</td>\n",
       "      <td>2</td>\n",
       "      <td>1</td>\n",
       "      <td>Medical</td>\n",
       "      <td>1</td>\n",
       "      <td>1496</td>\n",
       "      <td>2</td>\n",
       "      <td>...</td>\n",
       "      <td>2</td>\n",
       "      <td>80</td>\n",
       "      <td>0</td>\n",
       "      <td>16</td>\n",
       "      <td>2</td>\n",
       "      <td>2</td>\n",
       "      <td>2</td>\n",
       "      <td>2</td>\n",
       "      <td>2</td>\n",
       "      <td>2</td>\n",
       "    </tr>\n",
       "  </tbody>\n",
       "</table>\n",
       "<p>5 rows × 34 columns</p>\n",
       "</div>"
      ],
      "text/plain": [
       "   Age     BusinessTravel  DailyRate              Department  \\\n",
       "0   34      Travel_Rarely        790                   Sales   \n",
       "1   35      Travel_Rarely        660                   Sales   \n",
       "2   24  Travel_Frequently        381  Research & Development   \n",
       "3   24         Non-Travel        830                   Sales   \n",
       "4   44  Travel_Frequently       1193  Research & Development   \n",
       "\n",
       "   DistanceFromHome  Education EducationField  EmployeeCount  EmployeeNumber  \\\n",
       "0                24          4        Medical              1            1489   \n",
       "1                 7          1  Life Sciences              1            1492   \n",
       "2                 9          3        Medical              1            1494   \n",
       "3                13          2  Life Sciences              1            1495   \n",
       "4                 2          1        Medical              1            1496   \n",
       "\n",
       "   EnvironmentSatisfaction  ... RelationshipSatisfaction  StandardHours  \\\n",
       "0                        1  ...                        3             80   \n",
       "1                        4  ...                        1             80   \n",
       "2                        2  ...                        3             80   \n",
       "3                        4  ...                        3             80   \n",
       "4                        2  ...                        2             80   \n",
       "\n",
       "   StockOptionLevel  TotalWorkingYears TrainingTimesLastYear  WorkLifeBalance  \\\n",
       "0                 0                 16                     2                4   \n",
       "1                 1                  1                     3                3   \n",
       "2                 0                  4                     2                2   \n",
       "3                 1                  1                     2                3   \n",
       "4                 0                 16                     2                2   \n",
       "\n",
       "  YearsAtCompany  YearsInCurrentRole  YearsSinceLastPromotion  \\\n",
       "0             15                   9                       10   \n",
       "1              1                   0                        0   \n",
       "2              0                   0                        0   \n",
       "3              1                   0                        0   \n",
       "4              2                   2                        2   \n",
       "\n",
       "   YearsWithCurrManager  \n",
       "0                    10  \n",
       "1                     0  \n",
       "2                     0  \n",
       "3                     0  \n",
       "4                     2  \n",
       "\n",
       "[5 rows x 34 columns]"
      ]
     },
     "execution_count": 3,
     "metadata": {},
     "output_type": "execute_result"
    }
   ],
   "source": [
    "hr_data = pd.read_csv(\"E:\\Sankhyana Training\\Datasets\\HR data.csv\")\n",
    "hr_data.head()"
   ]
  },
  {
   "cell_type": "code",
   "execution_count": 4,
   "id": "758c0407-336f-46a5-97cb-f89f143a2574",
   "metadata": {},
   "outputs": [
    {
     "data": {
      "text/plain": [
       "(412, 34)"
      ]
     },
     "execution_count": 4,
     "metadata": {},
     "output_type": "execute_result"
    }
   ],
   "source": [
    "hr_data.shape"
   ]
  },
  {
   "cell_type": "code",
   "execution_count": 7,
   "id": "4e29251e-25e0-4691-9736-a1ef917d2f66",
   "metadata": {},
   "outputs": [
    {
     "data": {
      "text/html": [
       "<div>\n",
       "<style scoped>\n",
       "    .dataframe tbody tr th:only-of-type {\n",
       "        vertical-align: middle;\n",
       "    }\n",
       "\n",
       "    .dataframe tbody tr th {\n",
       "        vertical-align: top;\n",
       "    }\n",
       "\n",
       "    .dataframe thead th {\n",
       "        text-align: right;\n",
       "    }\n",
       "</style>\n",
       "<table border=\"1\" class=\"dataframe\">\n",
       "  <thead>\n",
       "    <tr style=\"text-align: right;\">\n",
       "      <th></th>\n",
       "      <th>Age</th>\n",
       "      <th>DailyRate</th>\n",
       "      <th>DistanceFromHome</th>\n",
       "      <th>Education</th>\n",
       "      <th>EmployeeCount</th>\n",
       "      <th>EmployeeNumber</th>\n",
       "      <th>EnvironmentSatisfaction</th>\n",
       "      <th>HourlyRate</th>\n",
       "      <th>JobInvolvement</th>\n",
       "      <th>JobLevel</th>\n",
       "      <th>...</th>\n",
       "      <th>RelationshipSatisfaction</th>\n",
       "      <th>StandardHours</th>\n",
       "      <th>StockOptionLevel</th>\n",
       "      <th>TotalWorkingYears</th>\n",
       "      <th>TrainingTimesLastYear</th>\n",
       "      <th>WorkLifeBalance</th>\n",
       "      <th>YearsAtCompany</th>\n",
       "      <th>YearsInCurrentRole</th>\n",
       "      <th>YearsSinceLastPromotion</th>\n",
       "      <th>YearsWithCurrManager</th>\n",
       "    </tr>\n",
       "  </thead>\n",
       "  <tbody>\n",
       "    <tr>\n",
       "      <th>count</th>\n",
       "      <td>412.000000</td>\n",
       "      <td>412.000000</td>\n",
       "      <td>412.000000</td>\n",
       "      <td>412.000000</td>\n",
       "      <td>412.0</td>\n",
       "      <td>412.000000</td>\n",
       "      <td>412.000000</td>\n",
       "      <td>412.000000</td>\n",
       "      <td>412.000000</td>\n",
       "      <td>412.000000</td>\n",
       "      <td>...</td>\n",
       "      <td>412.000000</td>\n",
       "      <td>412.0</td>\n",
       "      <td>412.000000</td>\n",
       "      <td>412.000000</td>\n",
       "      <td>412.000000</td>\n",
       "      <td>412.000000</td>\n",
       "      <td>412.000000</td>\n",
       "      <td>412.000000</td>\n",
       "      <td>412.000000</td>\n",
       "      <td>412.000000</td>\n",
       "    </tr>\n",
       "    <tr>\n",
       "      <th>mean</th>\n",
       "      <td>36.584951</td>\n",
       "      <td>784.364078</td>\n",
       "      <td>9.742718</td>\n",
       "      <td>3.000000</td>\n",
       "      <td>1.0</td>\n",
       "      <td>1777.565534</td>\n",
       "      <td>2.745146</td>\n",
       "      <td>66.526699</td>\n",
       "      <td>2.711165</td>\n",
       "      <td>1.995146</td>\n",
       "      <td>...</td>\n",
       "      <td>2.674757</td>\n",
       "      <td>80.0</td>\n",
       "      <td>0.873786</td>\n",
       "      <td>10.878641</td>\n",
       "      <td>2.876214</td>\n",
       "      <td>2.754854</td>\n",
       "      <td>6.861650</td>\n",
       "      <td>4.148058</td>\n",
       "      <td>2.148058</td>\n",
       "      <td>4.072816</td>\n",
       "    </tr>\n",
       "    <tr>\n",
       "      <th>std</th>\n",
       "      <td>8.389257</td>\n",
       "      <td>390.361319</td>\n",
       "      <td>8.258996</td>\n",
       "      <td>1.001216</td>\n",
       "      <td>0.0</td>\n",
       "      <td>166.285256</td>\n",
       "      <td>1.094379</td>\n",
       "      <td>20.352054</td>\n",
       "      <td>0.729344</td>\n",
       "      <td>1.025218</td>\n",
       "      <td>...</td>\n",
       "      <td>1.056111</td>\n",
       "      <td>0.0</td>\n",
       "      <td>0.884356</td>\n",
       "      <td>7.133747</td>\n",
       "      <td>1.252430</td>\n",
       "      <td>0.704936</td>\n",
       "      <td>5.759814</td>\n",
       "      <td>3.640796</td>\n",
       "      <td>3.108723</td>\n",
       "      <td>3.491322</td>\n",
       "    </tr>\n",
       "    <tr>\n",
       "      <th>min</th>\n",
       "      <td>18.000000</td>\n",
       "      <td>104.000000</td>\n",
       "      <td>1.000000</td>\n",
       "      <td>1.000000</td>\n",
       "      <td>1.0</td>\n",
       "      <td>1489.000000</td>\n",
       "      <td>1.000000</td>\n",
       "      <td>30.000000</td>\n",
       "      <td>1.000000</td>\n",
       "      <td>1.000000</td>\n",
       "      <td>...</td>\n",
       "      <td>1.000000</td>\n",
       "      <td>80.0</td>\n",
       "      <td>0.000000</td>\n",
       "      <td>0.000000</td>\n",
       "      <td>0.000000</td>\n",
       "      <td>1.000000</td>\n",
       "      <td>0.000000</td>\n",
       "      <td>0.000000</td>\n",
       "      <td>0.000000</td>\n",
       "      <td>0.000000</td>\n",
       "    </tr>\n",
       "    <tr>\n",
       "      <th>25%</th>\n",
       "      <td>31.000000</td>\n",
       "      <td>464.750000</td>\n",
       "      <td>2.000000</td>\n",
       "      <td>2.000000</td>\n",
       "      <td>1.0</td>\n",
       "      <td>1637.250000</td>\n",
       "      <td>2.000000</td>\n",
       "      <td>48.000000</td>\n",
       "      <td>2.000000</td>\n",
       "      <td>1.000000</td>\n",
       "      <td>...</td>\n",
       "      <td>2.000000</td>\n",
       "      <td>80.0</td>\n",
       "      <td>0.000000</td>\n",
       "      <td>6.000000</td>\n",
       "      <td>2.000000</td>\n",
       "      <td>2.000000</td>\n",
       "      <td>3.000000</td>\n",
       "      <td>2.000000</td>\n",
       "      <td>0.000000</td>\n",
       "      <td>2.000000</td>\n",
       "    </tr>\n",
       "    <tr>\n",
       "      <th>50%</th>\n",
       "      <td>35.500000</td>\n",
       "      <td>740.500000</td>\n",
       "      <td>8.000000</td>\n",
       "      <td>3.000000</td>\n",
       "      <td>1.0</td>\n",
       "      <td>1769.000000</td>\n",
       "      <td>3.000000</td>\n",
       "      <td>67.000000</td>\n",
       "      <td>3.000000</td>\n",
       "      <td>2.000000</td>\n",
       "      <td>...</td>\n",
       "      <td>3.000000</td>\n",
       "      <td>80.0</td>\n",
       "      <td>1.000000</td>\n",
       "      <td>10.000000</td>\n",
       "      <td>3.000000</td>\n",
       "      <td>3.000000</td>\n",
       "      <td>5.000000</td>\n",
       "      <td>3.000000</td>\n",
       "      <td>1.000000</td>\n",
       "      <td>3.000000</td>\n",
       "    </tr>\n",
       "    <tr>\n",
       "      <th>75%</th>\n",
       "      <td>42.000000</td>\n",
       "      <td>1147.750000</td>\n",
       "      <td>15.000000</td>\n",
       "      <td>4.000000</td>\n",
       "      <td>1.0</td>\n",
       "      <td>1929.500000</td>\n",
       "      <td>4.000000</td>\n",
       "      <td>85.000000</td>\n",
       "      <td>3.000000</td>\n",
       "      <td>2.000000</td>\n",
       "      <td>...</td>\n",
       "      <td>4.000000</td>\n",
       "      <td>80.0</td>\n",
       "      <td>1.000000</td>\n",
       "      <td>14.000000</td>\n",
       "      <td>3.000000</td>\n",
       "      <td>3.000000</td>\n",
       "      <td>10.000000</td>\n",
       "      <td>7.000000</td>\n",
       "      <td>2.000000</td>\n",
       "      <td>7.000000</td>\n",
       "    </tr>\n",
       "    <tr>\n",
       "      <th>max</th>\n",
       "      <td>60.000000</td>\n",
       "      <td>1495.000000</td>\n",
       "      <td>29.000000</td>\n",
       "      <td>5.000000</td>\n",
       "      <td>1.0</td>\n",
       "      <td>2068.000000</td>\n",
       "      <td>4.000000</td>\n",
       "      <td>100.000000</td>\n",
       "      <td>4.000000</td>\n",
       "      <td>5.000000</td>\n",
       "      <td>...</td>\n",
       "      <td>4.000000</td>\n",
       "      <td>80.0</td>\n",
       "      <td>3.000000</td>\n",
       "      <td>37.000000</td>\n",
       "      <td>6.000000</td>\n",
       "      <td>4.000000</td>\n",
       "      <td>36.000000</td>\n",
       "      <td>17.000000</td>\n",
       "      <td>14.000000</td>\n",
       "      <td>17.000000</td>\n",
       "    </tr>\n",
       "  </tbody>\n",
       "</table>\n",
       "<p>8 rows × 26 columns</p>\n",
       "</div>"
      ],
      "text/plain": [
       "              Age    DailyRate  DistanceFromHome   Education  EmployeeCount  \\\n",
       "count  412.000000   412.000000        412.000000  412.000000          412.0   \n",
       "mean    36.584951   784.364078          9.742718    3.000000            1.0   \n",
       "std      8.389257   390.361319          8.258996    1.001216            0.0   \n",
       "min     18.000000   104.000000          1.000000    1.000000            1.0   \n",
       "25%     31.000000   464.750000          2.000000    2.000000            1.0   \n",
       "50%     35.500000   740.500000          8.000000    3.000000            1.0   \n",
       "75%     42.000000  1147.750000         15.000000    4.000000            1.0   \n",
       "max     60.000000  1495.000000         29.000000    5.000000            1.0   \n",
       "\n",
       "       EmployeeNumber  EnvironmentSatisfaction  HourlyRate  JobInvolvement  \\\n",
       "count      412.000000               412.000000  412.000000      412.000000   \n",
       "mean      1777.565534                 2.745146   66.526699        2.711165   \n",
       "std        166.285256                 1.094379   20.352054        0.729344   \n",
       "min       1489.000000                 1.000000   30.000000        1.000000   \n",
       "25%       1637.250000                 2.000000   48.000000        2.000000   \n",
       "50%       1769.000000                 3.000000   67.000000        3.000000   \n",
       "75%       1929.500000                 4.000000   85.000000        3.000000   \n",
       "max       2068.000000                 4.000000  100.000000        4.000000   \n",
       "\n",
       "         JobLevel  ...  RelationshipSatisfaction  StandardHours  \\\n",
       "count  412.000000  ...                412.000000          412.0   \n",
       "mean     1.995146  ...                  2.674757           80.0   \n",
       "std      1.025218  ...                  1.056111            0.0   \n",
       "min      1.000000  ...                  1.000000           80.0   \n",
       "25%      1.000000  ...                  2.000000           80.0   \n",
       "50%      2.000000  ...                  3.000000           80.0   \n",
       "75%      2.000000  ...                  4.000000           80.0   \n",
       "max      5.000000  ...                  4.000000           80.0   \n",
       "\n",
       "       StockOptionLevel  TotalWorkingYears  TrainingTimesLastYear  \\\n",
       "count        412.000000         412.000000             412.000000   \n",
       "mean           0.873786          10.878641               2.876214   \n",
       "std            0.884356           7.133747               1.252430   \n",
       "min            0.000000           0.000000               0.000000   \n",
       "25%            0.000000           6.000000               2.000000   \n",
       "50%            1.000000          10.000000               3.000000   \n",
       "75%            1.000000          14.000000               3.000000   \n",
       "max            3.000000          37.000000               6.000000   \n",
       "\n",
       "       WorkLifeBalance  YearsAtCompany  YearsInCurrentRole  \\\n",
       "count       412.000000      412.000000          412.000000   \n",
       "mean          2.754854        6.861650            4.148058   \n",
       "std           0.704936        5.759814            3.640796   \n",
       "min           1.000000        0.000000            0.000000   \n",
       "25%           2.000000        3.000000            2.000000   \n",
       "50%           3.000000        5.000000            3.000000   \n",
       "75%           3.000000       10.000000            7.000000   \n",
       "max           4.000000       36.000000           17.000000   \n",
       "\n",
       "       YearsSinceLastPromotion  YearsWithCurrManager  \n",
       "count               412.000000            412.000000  \n",
       "mean                  2.148058              4.072816  \n",
       "std                   3.108723              3.491322  \n",
       "min                   0.000000              0.000000  \n",
       "25%                   0.000000              2.000000  \n",
       "50%                   1.000000              3.000000  \n",
       "75%                   2.000000              7.000000  \n",
       "max                  14.000000             17.000000  \n",
       "\n",
       "[8 rows x 26 columns]"
      ]
     },
     "execution_count": 7,
     "metadata": {},
     "output_type": "execute_result"
    }
   ],
   "source": [
    "hr_data.describe()"
   ]
  },
  {
   "cell_type": "code",
   "execution_count": 5,
   "id": "fe0fc653-6e3a-49e7-a469-30e5226e67d9",
   "metadata": {},
   "outputs": [
    {
     "data": {
      "text/plain": [
       "0      34\n",
       "1      35\n",
       "2      24\n",
       "3      24\n",
       "4      44\n",
       "       ..\n",
       "407    36\n",
       "408    39\n",
       "409    27\n",
       "410    49\n",
       "411    34\n",
       "Name: Age, Length: 412, dtype: int64"
      ]
     },
     "execution_count": 5,
     "metadata": {},
     "output_type": "execute_result"
    }
   ],
   "source": [
    "# selecting specific column froma dataframe\n",
    "age_col = hr_data['Age']\n",
    "age_col"
   ]
  },
  {
   "cell_type": "markdown",
   "id": "5b5693a8-8b71-4152-84da-d7d31d2b0d19",
   "metadata": {},
   "source": [
    "### Measure of Central Tendency\n"
   ]
  },
  {
   "cell_type": "code",
   "execution_count": 10,
   "id": "6ace72a9-12b6-4605-99e3-f46f70328750",
   "metadata": {},
   "outputs": [
    {
     "name": "stdout",
     "output_type": "stream",
     "text": [
      "Calculating the mean: 36.58495145631068\n"
     ]
    }
   ],
   "source": [
    "# calculating the mean for the Age Column\n",
    "print(\"Calculating the mean:\",age_col.mean())"
   ]
  },
  {
   "cell_type": "code",
   "execution_count": 12,
   "id": "62af55dd-2f9c-4505-be85-46899763f3d1",
   "metadata": {},
   "outputs": [
    {
     "name": "stdout",
     "output_type": "stream",
     "text": [
      "35.5\n"
     ]
    }
   ],
   "source": [
    "#calculating the median for the Age column\n",
    "print(age_col.median())"
   ]
  },
  {
   "cell_type": "code",
   "execution_count": 18,
   "id": "aba9bae6-ab04-4454-accf-bb46200c0bae",
   "metadata": {},
   "outputs": [
    {
     "name": "stdout",
     "output_type": "stream",
     "text": [
      "0    35\n",
      "Name: Age, dtype: int64\n"
     ]
    }
   ],
   "source": [
    "# calculating the mode\n",
    "print(age_col.mode())"
   ]
  },
  {
   "cell_type": "markdown",
   "id": "49b3acfd-ba8e-4d82-9a24-cf33ecfeef93",
   "metadata": {},
   "source": [
    "### Measure of Variability"
   ]
  },
  {
   "cell_type": "markdown",
   "id": "97ddf7d5-ba65-4381-8bb8-0248fc8b6606",
   "metadata": {},
   "source": [
    "### Range\n"
   ]
  },
  {
   "cell_type": "code",
   "execution_count": 20,
   "id": "98e06430-416f-412b-8d94-8f0feb7306b2",
   "metadata": {},
   "outputs": [
    {
     "name": "stdout",
     "output_type": "stream",
     "text": [
      "18\n"
     ]
    }
   ],
   "source": [
    "# getting the minimum values\n",
    "mini = age_col.min()\n",
    "print(mini)"
   ]
  },
  {
   "cell_type": "code",
   "execution_count": 19,
   "id": "78a63697-938e-499a-9027-c69844614cb5",
   "metadata": {},
   "outputs": [
    {
     "name": "stdout",
     "output_type": "stream",
     "text": [
      "60\n"
     ]
    }
   ],
   "source": [
    "# getting the maximum values\n",
    "maxi = age_col.max()\n",
    "print(maxi)"
   ]
  },
  {
   "cell_type": "code",
   "execution_count": 24,
   "id": "146f7510-5de5-4205-8697-1beef3e69807",
   "metadata": {},
   "outputs": [
    {
     "name": "stdout",
     "output_type": "stream",
     "text": [
      "The range of the age column: 42\n"
     ]
    }
   ],
   "source": [
    "#calculating the range\n",
    "agerange=maxi-mini\n",
    "print(\"The range of the age column:\",agerange)"
   ]
  },
  {
   "cell_type": "markdown",
   "id": "d114bc86-7b97-4cfc-bf49-d37f8fcacd65",
   "metadata": {},
   "source": [
    "### Variance\n"
   ]
  },
  {
   "cell_type": "code",
   "execution_count": 26,
   "id": "3e5c5b2f-b534-47d6-b9f1-38697143c311",
   "metadata": {},
   "outputs": [
    {
     "data": {
      "text/plain": [
       "np.float64(70.37962700493705)"
      ]
     },
     "execution_count": 26,
     "metadata": {},
     "output_type": "execute_result"
    }
   ],
   "source": [
    "age_col_var = age_col.var()\n",
    "age_col_var"
   ]
  },
  {
   "cell_type": "markdown",
   "id": "49c408bb-1b9d-4b37-a254-67bbdec9755e",
   "metadata": {},
   "source": [
    "### Standard Deviation\n"
   ]
  },
  {
   "cell_type": "code",
   "execution_count": 27,
   "id": "2e0eca65-4b55-4347-9e41-8e3af43c338b",
   "metadata": {},
   "outputs": [
    {
     "data": {
      "text/plain": [
       "np.float64(8.389256641975917)"
      ]
     },
     "execution_count": 27,
     "metadata": {},
     "output_type": "execute_result"
    }
   ],
   "source": [
    "age_col_std = age_col.std()\n",
    "age_col_std"
   ]
  },
  {
   "cell_type": "markdown",
   "id": "cb23af10-51cd-49b0-b8eb-98db7ba1b4d7",
   "metadata": {},
   "source": [
    "### Interquatile Range\n"
   ]
  },
  {
   "cell_type": "code",
   "execution_count": 28,
   "id": "d50becc5-5885-4450-9702-8ca1229e98c8",
   "metadata": {},
   "outputs": [
    {
     "name": "stdout",
     "output_type": "stream",
     "text": [
      "Lower quantile is: 31.0\n",
      "Upeer quantile is: 42.0\n"
     ]
    }
   ],
   "source": [
    "# is the diffrence between the upper quantile and the lower Quantile\n",
    "#getting  the lower quantile\n",
    "q1= age_col.quantile(0.25)\n",
    "# getting the upper quantile\n",
    "q3= age_col.quantile(0.75)\n",
    "\n",
    "print(\"Lower quantile is:\", q1)\n",
    "print (\"Upeer quantile is:\", q3)"
   ]
  },
  {
   "cell_type": "code",
   "execution_count": 30,
   "id": "11e75c78-3ac2-4ac2-b47e-28abfa4a4ee7",
   "metadata": {},
   "outputs": [
    {
     "name": "stdout",
     "output_type": "stream",
     "text": [
      "The interquantile range is: 11.0\n"
     ]
    }
   ],
   "source": [
    "# calculating the interquantile range\n",
    "iqr =q3-q1\n",
    "print(\"The interquantile range is:\", iqr)"
   ]
  },
  {
   "cell_type": "markdown",
   "id": "49c59491-ccb8-4ef5-bac6-480133a5b6d2",
   "metadata": {},
   "source": [
    "### Percentile"
   ]
  },
  {
   "cell_type": "code",
   "execution_count": 35,
   "id": "8b56a74d-d1c7-4065-8e74-6696757ebf33",
   "metadata": {},
   "outputs": [
    {
     "name": "stdout",
     "output_type": "stream",
     "text": [
      "30th percentile value is: 32.0\n",
      "45th percentile value is: 35.0\n",
      "90th percentile value is: 48.0\n"
     ]
    }
   ],
   "source": [
    "# calculating the percentile\n",
    "# 30th percentile\n",
    "print(\"30th percentile value is:\", np.percentile(age_col,30))\n",
    "# 45th percentile\n",
    "print(\"45th percentile value is:\", np.percentile(age_col,45))\n",
    "# 90th percentile\n",
    "print(\"90th percentile value is:\", np.percentile(age_col,90))"
   ]
  },
  {
   "cell_type": "markdown",
   "id": "8e9e9c13-fd6f-4ea7-bf38-9e720699f12f",
   "metadata": {},
   "source": [
    "### Outlier Analysis with Interquantile Range\n"
   ]
  },
  {
   "cell_type": "code",
   "execution_count": 38,
   "id": "8e11bc09-4b47-42ce-8e3a-55c27f2d84a2",
   "metadata": {},
   "outputs": [
    {
     "name": "stdout",
     "output_type": "stream",
     "text": [
      "14.5\n",
      "58.5\n"
     ]
    }
   ],
   "source": [
    "# mild outliers\n",
    "\n",
    "lower_inner_fence =q1-1.5*iqr  # 31-1.5*11\n",
    "upper_inner_fence =q3+1.5*iqr\n",
    "\n",
    "print(lower_inner_fence)\n",
    "print(upper_inner_fence)"
   ]
  },
  {
   "cell_type": "code",
   "execution_count": 40,
   "id": "df1353db-1aa3-4fff-86bc-b6206a916813",
   "metadata": {},
   "outputs": [
    {
     "data": {
      "text/plain": [
       "np.float64(44.0)"
      ]
     },
     "execution_count": 40,
     "metadata": {},
     "output_type": "execute_result"
    }
   ],
   "source": [
    "mild_outlier = upper_inner_fence-lower_inner_fence\n",
    "print(mild_outlier)"
   ]
  },
  {
   "cell_type": "code",
   "execution_count": 41,
   "id": "c97040bd-b657-4d78-87cd-6e3ea0b78371",
   "metadata": {},
   "outputs": [
    {
     "name": "stdout",
     "output_type": "stream",
     "text": [
      "77.0\n"
     ]
    }
   ],
   "source": [
    "# Extream outliers\n",
    "\n",
    "lower_inner_fence =q1-3*iqr  \n",
    "upper_inner_fence =q3+3*iqr\n",
    "\n",
    "extream_outliers =  upper_inner_fence-lower_inner_fence\n",
    "print(extream_outliers)"
   ]
  },
  {
   "cell_type": "code",
   "execution_count": 42,
   "id": "acc6f9ce-5b93-4c98-80cd-9706fc752ed6",
   "metadata": {},
   "outputs": [
    {
     "data": {
      "text/html": [
       "<div>\n",
       "<style scoped>\n",
       "    .dataframe tbody tr th:only-of-type {\n",
       "        vertical-align: middle;\n",
       "    }\n",
       "\n",
       "    .dataframe tbody tr th {\n",
       "        vertical-align: top;\n",
       "    }\n",
       "\n",
       "    .dataframe thead th {\n",
       "        text-align: right;\n",
       "    }\n",
       "</style>\n",
       "<table border=\"1\" class=\"dataframe\">\n",
       "  <thead>\n",
       "    <tr style=\"text-align: right;\">\n",
       "      <th></th>\n",
       "      <th>Age</th>\n",
       "      <th>BusinessTravel</th>\n",
       "      <th>DailyRate</th>\n",
       "      <th>Department</th>\n",
       "      <th>DistanceFromHome</th>\n",
       "      <th>Education</th>\n",
       "      <th>EducationField</th>\n",
       "      <th>EmployeeCount</th>\n",
       "      <th>EmployeeNumber</th>\n",
       "      <th>EnvironmentSatisfaction</th>\n",
       "      <th>...</th>\n",
       "      <th>RelationshipSatisfaction</th>\n",
       "      <th>StandardHours</th>\n",
       "      <th>StockOptionLevel</th>\n",
       "      <th>TotalWorkingYears</th>\n",
       "      <th>TrainingTimesLastYear</th>\n",
       "      <th>WorkLifeBalance</th>\n",
       "      <th>YearsAtCompany</th>\n",
       "      <th>YearsInCurrentRole</th>\n",
       "      <th>YearsSinceLastPromotion</th>\n",
       "      <th>YearsWithCurrManager</th>\n",
       "    </tr>\n",
       "  </thead>\n",
       "  <tbody>\n",
       "    <tr>\n",
       "      <th>0</th>\n",
       "      <td>34</td>\n",
       "      <td>Travel_Rarely</td>\n",
       "      <td>790</td>\n",
       "      <td>Sales</td>\n",
       "      <td>24</td>\n",
       "      <td>4</td>\n",
       "      <td>Medical</td>\n",
       "      <td>1</td>\n",
       "      <td>1489</td>\n",
       "      <td>1</td>\n",
       "      <td>...</td>\n",
       "      <td>3</td>\n",
       "      <td>80</td>\n",
       "      <td>0</td>\n",
       "      <td>16</td>\n",
       "      <td>2</td>\n",
       "      <td>4</td>\n",
       "      <td>15</td>\n",
       "      <td>9</td>\n",
       "      <td>10</td>\n",
       "      <td>10</td>\n",
       "    </tr>\n",
       "    <tr>\n",
       "      <th>1</th>\n",
       "      <td>35</td>\n",
       "      <td>Travel_Rarely</td>\n",
       "      <td>660</td>\n",
       "      <td>Sales</td>\n",
       "      <td>7</td>\n",
       "      <td>1</td>\n",
       "      <td>Life Sciences</td>\n",
       "      <td>1</td>\n",
       "      <td>1492</td>\n",
       "      <td>4</td>\n",
       "      <td>...</td>\n",
       "      <td>1</td>\n",
       "      <td>80</td>\n",
       "      <td>1</td>\n",
       "      <td>1</td>\n",
       "      <td>3</td>\n",
       "      <td>3</td>\n",
       "      <td>1</td>\n",
       "      <td>0</td>\n",
       "      <td>0</td>\n",
       "      <td>0</td>\n",
       "    </tr>\n",
       "  </tbody>\n",
       "</table>\n",
       "<p>2 rows × 34 columns</p>\n",
       "</div>"
      ],
      "text/plain": [
       "   Age BusinessTravel  DailyRate Department  DistanceFromHome  Education  \\\n",
       "0   34  Travel_Rarely        790      Sales                24          4   \n",
       "1   35  Travel_Rarely        660      Sales                 7          1   \n",
       "\n",
       "  EducationField  EmployeeCount  EmployeeNumber  EnvironmentSatisfaction  ...  \\\n",
       "0        Medical              1            1489                        1  ...   \n",
       "1  Life Sciences              1            1492                        4  ...   \n",
       "\n",
       "  RelationshipSatisfaction  StandardHours  StockOptionLevel  \\\n",
       "0                        3             80                 0   \n",
       "1                        1             80                 1   \n",
       "\n",
       "   TotalWorkingYears TrainingTimesLastYear  WorkLifeBalance YearsAtCompany  \\\n",
       "0                 16                     2                4             15   \n",
       "1                  1                     3                3              1   \n",
       "\n",
       "   YearsInCurrentRole  YearsSinceLastPromotion  YearsWithCurrManager  \n",
       "0                   9                       10                    10  \n",
       "1                   0                        0                     0  \n",
       "\n",
       "[2 rows x 34 columns]"
      ]
     },
     "execution_count": 42,
     "metadata": {},
     "output_type": "execute_result"
    }
   ],
   "source": [
    "hr_data.head(2)"
   ]
  },
  {
   "cell_type": "markdown",
   "id": "0947d884-181a-4a7b-8448-9fabcf421d23",
   "metadata": {},
   "source": [
    "### Plotting a boxplot to visualize any outliers "
   ]
  },
  {
   "cell_type": "code",
   "execution_count": 45,
   "id": "e88856c6-3776-4713-8954-be78adbc5eb9",
   "metadata": {},
   "outputs": [
    {
     "data": {
      "text/plain": [
       "<Axes: xlabel='BusinessTravel', ylabel='Age'>"
      ]
     },
     "execution_count": 45,
     "metadata": {},
     "output_type": "execute_result"
    },
    {
     "data": {
      "image/png": "[encoded data removed]",
      "text/plain": [
       "<Figure size 640x480 with 1 Axes>"
      ]
     },
     "metadata": {},
     "output_type": "display_data"
    }
   ],
   "source": [
    "# sns - seaborn library\n",
    "# boxplot () - used to visualize the boxplot graph\n",
    "\n",
    "sns.boxplot(y='Age', x='BusinessTravel', data = hr_data)"
   ]
  },
  {
   "cell_type": "markdown",
   "id": "035fa6b4-6c49-4424-9a9f-f956e160b209",
   "metadata": {},
   "source": [
    "### Covariance"
   ]
  },
  {
   "cell_type": "code",
   "execution_count": 46,
   "id": "acf0f6d3-9c5d-4423-9bfd-76185a1f5bd3",
   "metadata": {},
   "outputs": [
    {
     "data": {
      "text/html": [
       "<div>\n",
       "<style scoped>\n",
       "    .dataframe tbody tr th:only-of-type {\n",
       "        vertical-align: middle;\n",
       "    }\n",
       "\n",
       "    .dataframe tbody tr th {\n",
       "        vertical-align: top;\n",
       "    }\n",
       "\n",
       "    .dataframe thead th {\n",
       "        text-align: right;\n",
       "    }\n",
       "</style>\n",
       "<table border=\"1\" class=\"dataframe\">\n",
       "  <thead>\n",
       "    <tr style=\"text-align: right;\">\n",
       "      <th></th>\n",
       "      <th>Age</th>\n",
       "      <th>BusinessTravel</th>\n",
       "      <th>DailyRate</th>\n",
       "      <th>Department</th>\n",
       "      <th>DistanceFromHome</th>\n",
       "      <th>Education</th>\n",
       "      <th>EducationField</th>\n",
       "      <th>EmployeeCount</th>\n",
       "      <th>EmployeeNumber</th>\n",
       "      <th>EnvironmentSatisfaction</th>\n",
       "      <th>...</th>\n",
       "      <th>RelationshipSatisfaction</th>\n",
       "      <th>StandardHours</th>\n",
       "      <th>StockOptionLevel</th>\n",
       "      <th>TotalWorkingYears</th>\n",
       "      <th>TrainingTimesLastYear</th>\n",
       "      <th>WorkLifeBalance</th>\n",
       "      <th>YearsAtCompany</th>\n",
       "      <th>YearsInCurrentRole</th>\n",
       "      <th>YearsSinceLastPromotion</th>\n",
       "      <th>YearsWithCurrManager</th>\n",
       "    </tr>\n",
       "  </thead>\n",
       "  <tbody>\n",
       "    <tr>\n",
       "      <th>0</th>\n",
       "      <td>34</td>\n",
       "      <td>Travel_Rarely</td>\n",
       "      <td>790</td>\n",
       "      <td>Sales</td>\n",
       "      <td>24</td>\n",
       "      <td>4</td>\n",
       "      <td>Medical</td>\n",
       "      <td>1</td>\n",
       "      <td>1489</td>\n",
       "      <td>1</td>\n",
       "      <td>...</td>\n",
       "      <td>3</td>\n",
       "      <td>80</td>\n",
       "      <td>0</td>\n",
       "      <td>16</td>\n",
       "      <td>2</td>\n",
       "      <td>4</td>\n",
       "      <td>15</td>\n",
       "      <td>9</td>\n",
       "      <td>10</td>\n",
       "      <td>10</td>\n",
       "    </tr>\n",
       "    <tr>\n",
       "      <th>1</th>\n",
       "      <td>35</td>\n",
       "      <td>Travel_Rarely</td>\n",
       "      <td>660</td>\n",
       "      <td>Sales</td>\n",
       "      <td>7</td>\n",
       "      <td>1</td>\n",
       "      <td>Life Sciences</td>\n",
       "      <td>1</td>\n",
       "      <td>1492</td>\n",
       "      <td>4</td>\n",
       "      <td>...</td>\n",
       "      <td>1</td>\n",
       "      <td>80</td>\n",
       "      <td>1</td>\n",
       "      <td>1</td>\n",
       "      <td>3</td>\n",
       "      <td>3</td>\n",
       "      <td>1</td>\n",
       "      <td>0</td>\n",
       "      <td>0</td>\n",
       "      <td>0</td>\n",
       "    </tr>\n",
       "  </tbody>\n",
       "</table>\n",
       "<p>2 rows × 34 columns</p>\n",
       "</div>"
      ],
      "text/plain": [
       "   Age BusinessTravel  DailyRate Department  DistanceFromHome  Education  \\\n",
       "0   34  Travel_Rarely        790      Sales                24          4   \n",
       "1   35  Travel_Rarely        660      Sales                 7          1   \n",
       "\n",
       "  EducationField  EmployeeCount  EmployeeNumber  EnvironmentSatisfaction  ...  \\\n",
       "0        Medical              1            1489                        1  ...   \n",
       "1  Life Sciences              1            1492                        4  ...   \n",
       "\n",
       "  RelationshipSatisfaction  StandardHours  StockOptionLevel  \\\n",
       "0                        3             80                 0   \n",
       "1                        1             80                 1   \n",
       "\n",
       "   TotalWorkingYears TrainingTimesLastYear  WorkLifeBalance YearsAtCompany  \\\n",
       "0                 16                     2                4             15   \n",
       "1                  1                     3                3              1   \n",
       "\n",
       "   YearsInCurrentRole  YearsSinceLastPromotion  YearsWithCurrManager  \n",
       "0                   9                       10                    10  \n",
       "1                   0                        0                     0  \n",
       "\n",
       "[2 rows x 34 columns]"
      ]
     },
     "execution_count": 46,
     "metadata": {},
     "output_type": "execute_result"
    }
   ],
   "source": [
    "hr_data.head(2)"
   ]
  },
  {
   "cell_type": "code",
   "execution_count": 55,
   "id": "44d35eb8-3c4a-41d6-9331-0ee869ef81ed",
   "metadata": {},
   "outputs": [
    {
     "data": {
      "text/html": [
       "<div>\n",
       "<style scoped>\n",
       "    .dataframe tbody tr th:only-of-type {\n",
       "        vertical-align: middle;\n",
       "    }\n",
       "\n",
       "    .dataframe tbody tr th {\n",
       "        vertical-align: top;\n",
       "    }\n",
       "\n",
       "    .dataframe thead th {\n",
       "        text-align: right;\n",
       "    }\n",
       "</style>\n",
       "<table border=\"1\" class=\"dataframe\">\n",
       "  <thead>\n",
       "    <tr style=\"text-align: right;\">\n",
       "      <th></th>\n",
       "      <th>Age</th>\n",
       "      <th>DailyRate</th>\n",
       "      <th>Education</th>\n",
       "      <th>StandardHours</th>\n",
       "    </tr>\n",
       "  </thead>\n",
       "  <tbody>\n",
       "    <tr>\n",
       "      <th>0</th>\n",
       "      <td>34</td>\n",
       "      <td>790</td>\n",
       "      <td>4</td>\n",
       "      <td>80</td>\n",
       "    </tr>\n",
       "    <tr>\n",
       "      <th>1</th>\n",
       "      <td>35</td>\n",
       "      <td>660</td>\n",
       "      <td>1</td>\n",
       "      <td>80</td>\n",
       "    </tr>\n",
       "    <tr>\n",
       "      <th>2</th>\n",
       "      <td>24</td>\n",
       "      <td>381</td>\n",
       "      <td>3</td>\n",
       "      <td>80</td>\n",
       "    </tr>\n",
       "    <tr>\n",
       "      <th>3</th>\n",
       "      <td>24</td>\n",
       "      <td>830</td>\n",
       "      <td>2</td>\n",
       "      <td>80</td>\n",
       "    </tr>\n",
       "    <tr>\n",
       "      <th>4</th>\n",
       "      <td>44</td>\n",
       "      <td>1193</td>\n",
       "      <td>1</td>\n",
       "      <td>80</td>\n",
       "    </tr>\n",
       "  </tbody>\n",
       "</table>\n",
       "</div>"
      ],
      "text/plain": [
       "   Age  DailyRate  Education  StandardHours\n",
       "0   34        790          4             80\n",
       "1   35        660          1             80\n",
       "2   24        381          3             80\n",
       "3   24        830          2             80\n",
       "4   44       1193          1             80"
      ]
     },
     "execution_count": 55,
     "metadata": {},
     "output_type": "execute_result"
    }
   ],
   "source": [
    "# Covaiance matrix\n",
    "\n",
    "hr_data_cor = hr_data[['Age', 'DailyRate', 'Education', 'StandardHours' ]]\n",
    "hr_data_cor.head()"
   ]
  },
  {
   "cell_type": "code",
   "execution_count": 56,
   "id": "3bde49ec-fa3e-470d-a52b-55525779429b",
   "metadata": {},
   "outputs": [
    {
     "data": {
      "text/html": [
       "<div>\n",
       "<style scoped>\n",
       "    .dataframe tbody tr th:only-of-type {\n",
       "        vertical-align: middle;\n",
       "    }\n",
       "\n",
       "    .dataframe tbody tr th {\n",
       "        vertical-align: top;\n",
       "    }\n",
       "\n",
       "    .dataframe thead th {\n",
       "        text-align: right;\n",
       "    }\n",
       "</style>\n",
       "<table border=\"1\" class=\"dataframe\">\n",
       "  <thead>\n",
       "    <tr style=\"text-align: right;\">\n",
       "      <th></th>\n",
       "      <th>Age</th>\n",
       "      <th>DailyRate</th>\n",
       "      <th>Education</th>\n",
       "      <th>StandardHours</th>\n",
       "    </tr>\n",
       "  </thead>\n",
       "  <tbody>\n",
       "    <tr>\n",
       "      <th>Age</th>\n",
       "      <td>70.379627</td>\n",
       "      <td>28.034689</td>\n",
       "      <td>2.486618</td>\n",
       "      <td>0.0</td>\n",
       "    </tr>\n",
       "    <tr>\n",
       "      <th>DailyRate</th>\n",
       "      <td>28.034689</td>\n",
       "      <td>152381.959582</td>\n",
       "      <td>20.503650</td>\n",
       "      <td>0.0</td>\n",
       "    </tr>\n",
       "    <tr>\n",
       "      <th>Education</th>\n",
       "      <td>2.486618</td>\n",
       "      <td>20.503650</td>\n",
       "      <td>1.002433</td>\n",
       "      <td>0.0</td>\n",
       "    </tr>\n",
       "    <tr>\n",
       "      <th>StandardHours</th>\n",
       "      <td>0.000000</td>\n",
       "      <td>0.000000</td>\n",
       "      <td>0.000000</td>\n",
       "      <td>0.0</td>\n",
       "    </tr>\n",
       "  </tbody>\n",
       "</table>\n",
       "</div>"
      ],
      "text/plain": [
       "                     Age      DailyRate  Education  StandardHours\n",
       "Age            70.379627      28.034689   2.486618            0.0\n",
       "DailyRate      28.034689  152381.959582  20.503650            0.0\n",
       "Education       2.486618      20.503650   1.002433            0.0\n",
       "StandardHours   0.000000       0.000000   0.000000            0.0"
      ]
     },
     "execution_count": 56,
     "metadata": {},
     "output_type": "execute_result"
    }
   ],
   "source": [
    "# calculating the covaruiance matrix\n",
    "hr_data_cor.cov()"
   ]
  },
  {
   "cell_type": "code",
   "execution_count": null,
   "id": "0894edae-603f-4a24-89a4-9883f92c9f08",
   "metadata": {},
   "outputs": [],
   "source": []
  }
 ],
 "metadata": {
  "kernelspec": {
   "display_name": "Python 3 (ipykernel)",
   "language": "python",
   "name": "python3"
  },
  "language_info": {
   "codemirror_mode": {
    "name": "ipython",
    "version": 3
   },
   "file_extension": ".py",
   "mimetype": "text/x-python",
   "name": "python",
   "nbconvert_exporter": "python",
   "pygments_lexer": "ipython3",
   "version": "3.9.19"
  }
 },
 "nbformat": 4,
 "nbformat_minor": 5
}
