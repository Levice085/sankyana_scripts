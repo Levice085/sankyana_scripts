{
 "cells": [
  {
   "cell_type": "markdown",
   "metadata": {},
   "source": [
    "## PYTHON LOOPS\n",
    "### For loops"
   ]
  },
  {
   "cell_type": "code",
   "execution_count": null,
   "metadata": {},
   "outputs": [
    {
     "name": "stdout",
     "output_type": "stream",
     "text": [
      "simpl\n",
      "s*i*m*p*l*i*l*e*a*r*n*"
     ]
    }
   ],
   "source": [
    "s = \"simplilearn\"\n",
    "print(s[0:5 ])\n",
    "for i in s:\n",
    "    print(i,end = \"*\")"
   ]
  },
  {
   "cell_type": "code",
   "execution_count": 4,
   "metadata": {},
   "outputs": [
    {
     "name": "stdout",
     "output_type": "stream",
     "text": [
      "Sum of list is 180\n",
      "Avg of the list is 36.0\n"
     ]
    }
   ],
   "source": [
    "# FInding sum and avg of list\n",
    "myList = [10,20,40,50,60]\n",
    "sum = 0\n",
    "for i in myList:\n",
    "    sum+=i\n",
    "print(\"Sum of list is\",sum)\n",
    "print(\"Avg of the list is\",sum/len(myList))"
   ]
  },
  {
   "cell_type": "code",
   "execution_count": 7,
   "metadata": {},
   "outputs": [
    {
     "name": "stdout",
     "output_type": "stream",
     "text": [
      "1 3 5 7 9 11 13 15 17 19 "
     ]
    }
   ],
   "source": [
    "#Using range\n",
    "for i in range(1,20,2):\n",
    "    print(i,end =\" \")"
   ]
  },
  {
   "cell_type": "code",
   "execution_count": 8,
   "metadata": {},
   "outputs": [
    {
     "name": "stdout",
     "output_type": "stream",
     "text": [
      "6 * 1 = 6\n",
      "6 * 2 = 12\n",
      "6 * 3 = 18\n",
      "6 * 4 = 24\n",
      "6 * 5 = 30\n",
      "6 * 6 = 36\n",
      "6 * 7 = 42\n",
      "6 * 8 = 48\n",
      "6 * 9 = 54\n",
      "6 * 10 = 60\n"
     ]
    }
   ],
   "source": [
    "#Printing a multuplication table\n",
    "n = int(input(\"Enter number:\"))\n",
    "for i in range(1,11):\n",
    "    print(n,\"*\",i,\"=\",n*i)\n",
    "\n"
   ]
  },
  {
   "cell_type": "code",
   "execution_count": 12,
   "metadata": {},
   "outputs": [
    {
     "name": "stdout",
     "output_type": "stream",
     "text": [
      "Hello Python\n",
      "Hello Java\n",
      "Hello C++\n",
      "Hello C#\n",
      "Hello Ruby\n",
      "Hello Python\n",
      "Hello Java\n",
      "Hello C++\n",
      "Hello C#\n",
      "Hello Ruby\n"
     ]
    }
   ],
   "source": [
    "# Printing Hello for each language\n",
    "programming_languages = [\"Python\",\"Java\",\"C++\",\"C#\",\"Ruby\"]\n",
    "for i in range(len(programming_languages)):\n",
    "    print(\"Hello\",programming_languages[i])\n",
    "\n",
    "#Alternative\n",
    "programming_languages = [\"Python\",\"Java\",\"C++\",\"C#\",\"Ruby\"]\n",
    "for i in programming_languages:\n",
    "    print(\"Hello\",i)"
   ]
  },
  {
   "cell_type": "code",
   "execution_count": 15,
   "metadata": {},
   "outputs": [
    {
     "name": "stdout",
     "output_type": "stream",
     "text": [
      "1 \n",
      "1 2 \n",
      "1 2 3 \n",
      "1 2 3 4 \n",
      "1 2 3 4 5 \n"
     ]
    }
   ],
   "source": [
    "#Nested for loops\n",
    "for i in range(1,6):\n",
    "    for j in range(1,i+1):\n",
    "        print(j,end = \" \")\n",
    "    print()"
   ]
  },
  {
   "cell_type": "code",
   "execution_count": 25,
   "metadata": {},
   "outputs": [
    {
     "name": "stdout",
     "output_type": "stream",
     "text": [
      "We display each letter ofGoogle\n",
      "G\n",
      "o\n",
      "o\n",
      "g\n",
      "l\n",
      "e\n",
      "We display each letter ofMicrosoft\n",
      "M\n",
      "i\n",
      "c\n",
      "r\n",
      "o\n",
      "s\n",
      "o\n",
      "f\n",
      "t\n",
      "We display each letter ofAmazon\n",
      "A\n",
      "m\n",
      "a\n",
      "z\n",
      "o\n",
      "n\n",
      "We display each letter ofFacebook\n",
      "F\n",
      "a\n",
      "c\n",
      "e\n",
      "b\n",
      "o\n",
      "o\n",
      "k\n",
      "We display each letter ofApple\n",
      "A\n",
      "p\n",
      "p\n",
      "l\n",
      "e\n",
      "G o o g l e \n",
      "M i c r o s o f t \n",
      "A m a z o n \n",
      "F a c e b o o k \n",
      "A p p l e \n"
     ]
    }
   ],
   "source": [
    "companies = [\"Google\",\"Microsoft\",\"Amazon\",\"Facebook\",\"Apple\"]\n",
    "for i in companies:\n",
    "    print(\"We display each letter of\"+i)\n",
    "    for j in i:\n",
    "        print(j)\n",
    "\n",
    "#Alternative\n",
    "for i in companies:\n",
    "    for j in i:\n",
    "        print(j,end= \" \")\n",
    "    print()\n",
    "    "
   ]
  },
  {
   "cell_type": "code",
   "execution_count": 29,
   "metadata": {},
   "outputs": [
    {
     "name": "stdout",
     "output_type": "stream",
     "text": [
      "0\n",
      "3\n",
      "6\n",
      "9\n",
      "12\n",
      "15\n",
      "18\n",
      "Loop is over\n"
     ]
    }
   ],
   "source": [
    "#For loop with else\n",
    "for i in range(0,20,3):\n",
    "    print(i)\n",
    "else:   \n",
    "    print(\"Loop is over\")"
   ]
  },
  {
   "cell_type": "code",
   "execution_count": 75,
   "metadata": {},
   "outputs": [
    {
     "name": "stdout",
     "output_type": "stream",
     "text": [
      "India scored 10 goals\n",
      "Australia scored 20 goals\n",
      "England scored 30 goals\n",
      "South Africa scored 40 goals\n"
     ]
    }
   ],
   "source": [
    "#Program a display of total goals scored by each team\n",
    "teams = [\"India\",\"Australia\",\"England\",\"South Africa\"]\n",
    "goals = [10,20,30,40]\n",
    "for i in range(len(teams)):\n",
    "    print(teams[i],'scored',goals[i],'goals')"
   ]
  },
  {
   "cell_type": "code",
   "execution_count": 74,
   "metadata": {},
   "outputs": [
    {
     "name": "stdout",
     "output_type": "stream",
     "text": [
      "Messi scored 10 goals\n",
      "Ronaldo scored 20 goals\n",
      "Neymar scored 30 goals\n"
     ]
    }
   ],
   "source": [
    "#Program a display from a dictionary\n",
    "player = [\"Messi\", \"Ronaldo\", \"Neymar\"]\n",
    "goals = {\n",
    "    \"Messi\": 10,\n",
    "    \"Ronaldo\": 20,\n",
    "    \"Neymar\": 30\n",
    "}\n",
    "\n",
    "for p in player:\n",
    "    if p in goals:\n",
    "        print(p,\"scored\",goals[p],\"goals\")\n",
    "    \n",
    "    else:\n",
    "        print(\"No data available\")\n"
   ]
  },
  {
   "cell_type": "code",
   "execution_count": null,
   "metadata": {},
   "outputs": [
    {
     "name": "stdout",
     "output_type": "stream",
     "text": [
      "Cube of  1 is  1\n",
      "Cube of  2 is  8\n",
      "Cube of  3 is  27\n",
      "Cube of  4 is  64\n",
      "Cube of  5 is  125\n",
      "Cube of  6 is  216\n",
      "Cube of  7 is  343\n",
      "Cube of  8 is  512\n",
      "Cube of  9 is  729\n",
      "Cube of  10 is  1000\n"
     ]
    }
   ],
   "source": [
    "#Cube of numbers using for loop\n",
    "for i in range(1,11):\n",
    "    cube = i**3\n",
    "    print(\"Cube of \",i,'is ',cube)"
   ]
  },
  {
   "cell_type": "code",
   "execution_count": 60,
   "metadata": {},
   "outputs": [
    {
     "name": "stdout",
     "output_type": "stream",
     "text": [
      "[125, 1000, 3375, 8000, 15625]\n"
     ]
    }
   ],
   "source": [
    "numb = [5,10,15,20,25]\n",
    "cube = []\n",
    "for i in numb:\n",
    "    cube.append(i**3)\n",
    "print(cube)"
   ]
  },
  {
   "cell_type": "code",
   "execution_count": 66,
   "metadata": {},
   "outputs": [
    {
     "name": "stdout",
     "output_type": "stream",
     "text": [
      "* \n",
      "* * \n",
      "* * * \n",
      "* * * * \n",
      "* * * * * \n"
     ]
    }
   ],
   "source": [
    "#Displaying a pattern\n",
    "n = int(input(\"Enter number of rows: \"))\n",
    "for i in range(1,n):\n",
    "    for j in range(1,i+1):\n",
    "        print(\"*\",end = \" \")\n",
    "    print()"
   ]
  }
 ],
 "metadata": {
  "kernelspec": {
   "display_name": "Python 3",
   "language": "python",
   "name": "python3"
  },
  "language_info": {
   "codemirror_mode": {
    "name": "ipython",
    "version": 3
   },
   "file_extension": ".py",
   "mimetype": "text/x-python",
   "name": "python",
   "nbconvert_exporter": "python",
   "pygments_lexer": "ipython3",
   "version": "3.11.11"
  }
 },
 "nbformat": 4,
 "nbformat_minor": 2
}
